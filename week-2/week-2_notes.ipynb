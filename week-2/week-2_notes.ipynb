{
 "cells": [
  {
   "cell_type": "markdown",
   "metadata": {},
   "source": [
    "# Week 2\n",
    "\n",
    "### Ridge regression \n",
    "Coefficients vs. regularization parameter\n",
    "\n",
    "### Support Vector Machines (SVM)\n",
    "C-parameter\n",
    "\n",
    "### Radial Basis Function (RBF) kernel SVM\n",
    "\n",
    "### Multiclass classification\n",
    "\n",
    "### Regularization parameter lambda\n",
    "\n",
    "### Parsimonious model\n",
    "Model that accomplishes the desired level of prediction with as few predictor variables as possible\n",
    "\n",
    "### Cross-validation"
   ]
  },
  {
   "cell_type": "code",
   "execution_count": null,
   "metadata": {},
   "outputs": [],
   "source": []
  }
 ],
 "metadata": {
  "kernelspec": {
   "display_name": "Python 3",
   "language": "python",
   "name": "python3"
  },
  "language_info": {
   "codemirror_mode": {
    "name": "ipython",
    "version": 3
   },
   "file_extension": ".py",
   "mimetype": "text/x-python",
   "name": "python",
   "nbconvert_exporter": "python",
   "pygments_lexer": "ipython3",
   "version": "3.6.1"
  }
 },
 "nbformat": 4,
 "nbformat_minor": 2
}
